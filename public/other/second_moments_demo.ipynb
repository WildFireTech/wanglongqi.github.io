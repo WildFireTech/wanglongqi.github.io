{
 "cells": [
  {
   "cell_type": "markdown",
   "metadata": {},
   "source": [
    "## 引言\n",
    "我一直认为没有必要在考试中求截面矩和质心一类玩意，因为现在的电脑太容易求出这些几何性质的量了。Ansys和AutoCAD都内置了相关函数，其实就算要求解析解也不困难，这里就做个演示。"
   ]
  },
  {
   "cell_type": "code",
   "execution_count": 1,
   "metadata": {
    "collapsed": false
   },
   "outputs": [
    {
     "name": "stdout",
     "output_type": "stream",
     "text": [
      "Populating the interactive namespace from numpy and matplotlib\n"
     ]
    }
   ],
   "source": [
    "%pylab inline\n",
    "from sympy import Polygon, Point, var, init_printing, simplify\n",
    "import sympy\n",
    "init_printing()\n",
    "var('b,h,t')\n",
    "from second_moments import second_moments"
   ]
  },
  {
   "cell_type": "markdown",
   "metadata": {},
   "source": [
    "## 矩形截面：\n",
    "假设宽为b，高为h。"
   ]
  },
  {
   "cell_type": "code",
   "execution_count": 2,
   "metadata": {
    "collapsed": false
   },
   "outputs": [
    {
     "data": {
      "image/png": "[encoded data removed]",
      "text/latex": [
       "$$b h$$"
      ],
      "text/plain": [
       "b⋅h"
      ]
     },
     "execution_count": 2,
     "metadata": {},
     "output_type": "execute_result"
    }
   ],
   "source": [
    "p = map(Point,((0,0),(b,0),(b,h),(0,h)))\n",
    "poly = Polygon(*p)\n",
    "poly.area"
   ]
  },
  {
   "cell_type": "code",
   "execution_count": 3,
   "metadata": {
    "collapsed": false
   },
   "outputs": [
    {
     "data": {
      "image/png": "[encoded data removed]",
      "text/latex": [
       "$$Point(b/2, h/2)$$"
      ],
      "text/plain": [
       "Point(b/2, h/2)"
      ]
     },
     "execution_count": 3,
     "metadata": {},
     "output_type": "execute_result"
    }
   ],
   "source": [
    "poly.centroid"
   ]
  },
  {
   "cell_type": "code",
   "execution_count": 4,
   "metadata": {
    "collapsed": false
   },
   "outputs": [
    {
     "data": {
      "image/png": "[encoded data removed]",
      "text/latex": [
       "$$\\left ( \\frac{b h^{3}}{12}, \\quad \\frac{b^{3} h}{12}, \\quad 0\\right )$$"
      ],
      "text/plain": [
       "⎛   3   3     ⎞\n",
       "⎜b⋅h   b ⋅h   ⎟\n",
       "⎜────, ────, 0⎟\n",
       "⎝ 12    12    ⎠"
      ]
     },
     "execution_count": 4,
     "metadata": {},
     "output_type": "execute_result"
    }
   ],
   "source": [
    "Ix, Iy, Ixy = second_moments(poly)\n",
    "Ix, Iy, Ixy"
   ]
  },
  {
   "cell_type": "markdown",
   "metadata": {},
   "source": [
    "## L形截面\n",
    "假设厚度都是t,宽为b，高为h"
   ]
  },
  {
   "cell_type": "code",
   "execution_count": 5,
   "metadata": {
    "collapsed": false
   },
   "outputs": [
    {
     "data": {
      "image/png": "[encoded data removed]",
      "text/latex": [
       "$$t \\left(b + h - t\\right)$$"
      ],
      "text/plain": [
       "t⋅(b + h - t)"
      ]
     },
     "execution_count": 5,
     "metadata": {},
     "output_type": "execute_result"
    }
   ],
   "source": [
    "p = map(Point,((0,0),(b,0),(b,t),(t,t),(t,h),(0,h)))\n",
    "poly = Polygon(*p)\n",
    "poly.area"
   ]
  },
  {
   "cell_type": "code",
   "execution_count": 6,
   "metadata": {
    "collapsed": false
   },
   "outputs": [
    {
     "data": {
      "image/png": "[encoded data removed]",
      "text/latex": [
       "$$Point((b**2 + h*t - t**2)/(2*(b + h - t)), (b*t + h**2 - t**2)/(2*(b + h - t)))$$"
      ],
      "text/plain": [
       "Point((b**2 + h*t - t**2)/(2*(b + h - t)), (b*t + h**2 - t**2)/(2*(b + h - t))\n",
       ")"
      ]
     },
     "execution_count": 6,
     "metadata": {},
     "output_type": "execute_result"
    }
   ],
   "source": [
    "simplify(poly.centroid)"
   ]
  },
  {
   "cell_type": "code",
   "execution_count": 7,
   "metadata": {
    "collapsed": false
   },
   "outputs": [
    {
     "data": {
      "image/png": "[encoded data removed]",
      "text/latex": [
       "$$\\left ( \\frac{t}{12 b + 12 h - 12 t} \\left(b^{2} t^{2} + 4 b h^{3} - 6 b h^{2} t + 4 b h t^{2} - 2 b t^{3} + h^{4} - 4 h^{3} t + 6 h^{2} t^{2} - 4 h t^{3} + t^{4}\\right), \\quad \\frac{t}{12 b + 12 h - 12 t} \\left(b^{4} + 4 b^{3} h - 4 b^{3} t - 6 b^{2} h t + 6 b^{2} t^{2} + 4 b h t^{2} - 4 b t^{3} + h^{2} t^{2} - 2 h t^{3} + t^{4}\\right), \\quad \\frac{b h t \\left(b h - b t - h t + t^{2}\\right)}{- 4 b - 4 h + 4 t}\\right )$$"
      ],
      "text/plain": [
       "⎛  ⎛ 2  2        3        2            2        3    4      3        2  2     \n",
       "⎜t⋅⎝b ⋅t  + 4⋅b⋅h  - 6⋅b⋅h ⋅t + 4⋅b⋅h⋅t  - 2⋅b⋅t  + h  - 4⋅h ⋅t + 6⋅h ⋅t  - 4⋅\n",
       "⎜─────────────────────────────────────────────────────────────────────────────\n",
       "⎝                                   12⋅b + 12⋅h - 12⋅t                        \n",
       "\n",
       "   3    4⎞    ⎛ 4      3        3        2          2  2          2        3  \n",
       "h⋅t  + t ⎠  t⋅⎝b  + 4⋅b ⋅h - 4⋅b ⋅t - 6⋅b ⋅h⋅t + 6⋅b ⋅t  + 4⋅b⋅h⋅t  - 4⋅b⋅t  +\n",
       "──────────, ──────────────────────────────────────────────────────────────────\n",
       "                                               12⋅b + 12⋅h - 12⋅t             \n",
       "\n",
       "  2  2        3    4⎞        ⎛                   2⎞⎞\n",
       " h ⋅t  - 2⋅h⋅t  + t ⎠  b⋅h⋅t⋅⎝b⋅h - b⋅t - h⋅t + t ⎠⎟\n",
       "─────────────────────, ────────────────────────────⎟\n",
       "                              4⋅(-b - h + t)       ⎠"
      ]
     },
     "execution_count": 7,
     "metadata": {},
     "output_type": "execute_result"
    }
   ],
   "source": [
    "Ix, Iy, Ixy = simplify(second_moments(poly))\n",
    "Ix, Iy, Ixy"
   ]
  },
  {
   "cell_type": "markdown",
   "metadata": {},
   "source": [
    "你实际上还可以得到$t$是小量时候的二阶近似"
   ]
  },
  {
   "cell_type": "code",
   "execution_count": 8,
   "metadata": {
    "collapsed": false
   },
   "outputs": [
    {
     "data": {
      "image/png": "[encoded data removed]",
      "text/latex": [
       "$$\\frac{h^{3} t \\left(4 b + h\\right)}{12 b + 12 h}$$"
      ],
      "text/plain": [
       " 3            \n",
       "h ⋅t⋅(4⋅b + h)\n",
       "──────────────\n",
       "  12⋅(b + h)  "
      ]
     },
     "execution_count": 8,
     "metadata": {},
     "output_type": "execute_result"
    }
   ],
   "source": [
    "simplify(sympy.series(Ix,t,n=2).removeO())"
   ]
  },
  {
   "cell_type": "code",
   "execution_count": 9,
   "metadata": {
    "collapsed": false
   },
   "outputs": [
    {
     "data": {
      "image/png": "[encoded data removed]",
      "text/latex": [
       "$$\\frac{b^{3} t \\left(b + 4 h\\right)}{12 b + 12 h}$$"
      ],
      "text/plain": [
       " 3            \n",
       "b ⋅t⋅(b + 4⋅h)\n",
       "──────────────\n",
       "  12⋅(b + h)  "
      ]
     },
     "execution_count": 9,
     "metadata": {},
     "output_type": "execute_result"
    }
   ],
   "source": [
    "simplify(sympy.series(Iy,t,n=2).removeO())"
   ]
  },
  {
   "cell_type": "code",
   "execution_count": 10,
   "metadata": {
    "collapsed": false
   },
   "outputs": [
    {
     "data": {
      "image/png": "[encoded data removed]",
      "text/latex": [
       "$$- \\frac{b^{2} h^{2} t}{4 b + 4 h}$$"
      ],
      "text/plain": [
       "  2  2   \n",
       "-b ⋅h ⋅t \n",
       "─────────\n",
       "4⋅b + 4⋅h"
      ]
     },
     "execution_count": 10,
     "metadata": {},
     "output_type": "execute_result"
    }
   ],
   "source": [
    "simplify(sympy.series(Ixy,t,n=2).removeO())"
   ]
  },
  {
   "cell_type": "markdown",
   "metadata": {},
   "source": [
    "## 六边形：\n",
    "外接圆半径为R的吧！"
   ]
  },
  {
   "cell_type": "code",
   "execution_count": 11,
   "metadata": {
    "collapsed": false
   },
   "outputs": [
    {
     "data": {
      "image/png": "[encoded data removed]",
      "text/latex": [
       "$$\\left [ \\left ( R, \\quad 0\\right ), \\quad \\left ( \\frac{R}{2}, \\quad \\frac{\\sqrt{3} R}{2}\\right ), \\quad \\left ( - \\frac{R}{2}, \\quad \\frac{\\sqrt{3} R}{2}\\right ), \\quad \\left ( - R, \\quad 0\\right ), \\quad \\left ( - \\frac{R}{2}, \\quad - \\frac{\\sqrt{3} R}{2}\\right ), \\quad \\left ( \\frac{R}{2}, \\quad - \\frac{\\sqrt{3} R}{2}\\right )\\right ]$$"
      ],
      "text/plain": [
       "⎡        ⎛     ___  ⎞  ⎛       ___  ⎞           ⎛        ___   ⎞  ⎛      ___  \n",
       "⎢        ⎜R  ╲╱ 3 ⋅R⎟  ⎜-R   ╲╱ 3 ⋅R⎟           ⎜-R   -╲╱ 3 ⋅R ⎟  ⎜R  -╲╱ 3 ⋅R\n",
       "⎢(R, 0), ⎜─, ───────⎟, ⎜───, ───────⎟, (-R, 0), ⎜───, ─────────⎟, ⎜─, ────────\n",
       "⎣        ⎝2     2   ⎠  ⎝ 2      2   ⎠           ⎝ 2       2    ⎠  ⎝2      2   \n",
       "\n",
       " ⎞⎤\n",
       " ⎟⎥\n",
       "─⎟⎥\n",
       " ⎠⎦"
      ]
     },
     "execution_count": 11,
     "metadata": {},
     "output_type": "execute_result"
    }
   ],
   "source": [
    "var('R')\n",
    "p = [(sympy.cos(i)*R,sympy.sin(i)*R) for i in arange(6)/sympy.S.One/3*sympy.pi]\n",
    "poly = Polygon(*p)\n",
    "p"
   ]
  },
  {
   "cell_type": "code",
   "execution_count": 12,
   "metadata": {
    "collapsed": false
   },
   "outputs": [
    {
     "data": {
      "image/png": "[encoded data removed]",
      "text/latex": [
       "$$\\frac{3 \\sqrt{3}}{2} R^{2}$$"
      ],
      "text/plain": [
       "    ___  2\n",
       "3⋅╲╱ 3 ⋅R \n",
       "──────────\n",
       "    2     "
      ]
     },
     "execution_count": 12,
     "metadata": {},
     "output_type": "execute_result"
    }
   ],
   "source": [
    "poly.area"
   ]
  },
  {
   "cell_type": "code",
   "execution_count": 13,
   "metadata": {
    "collapsed": false
   },
   "outputs": [
    {
     "data": {
      "image/png": "[encoded data removed]",
      "text/latex": [
       "$$Point(0, 0)$$"
      ],
      "text/plain": [
       "Point(0, 0)"
      ]
     },
     "execution_count": 13,
     "metadata": {},
     "output_type": "execute_result"
    }
   ],
   "source": [
    "poly.centroid"
   ]
  },
  {
   "cell_type": "code",
   "execution_count": 14,
   "metadata": {
    "collapsed": false
   },
   "outputs": [
    {
     "data": {
      "image/png": "[encoded data removed]",
      "text/latex": [
       "$$\\left ( \\frac{5 \\sqrt{3}}{16} R^{4}, \\quad \\frac{5 \\sqrt{3}}{16} R^{4}, \\quad 0\\right )$$"
      ],
      "text/plain": [
       "⎛    ___  4      ___  4   ⎞\n",
       "⎜5⋅╲╱ 3 ⋅R   5⋅╲╱ 3 ⋅R    ⎟\n",
       "⎜──────────, ──────────, 0⎟\n",
       "⎝    16          16       ⎠"
      ]
     },
     "execution_count": 14,
     "metadata": {},
     "output_type": "execute_result"
    }
   ],
   "source": [
    "second_moments(poly)"
   ]
  },
  {
   "cell_type": "code",
   "execution_count": null,
   "metadata": {
    "collapsed": true
   },
   "outputs": [],
   "source": []
  }
 ],
 "metadata": {
  "kernelspec": {
   "display_name": "Python 2",
   "language": "python",
   "name": "python2"
  },
  "language_info": {
   "codemirror_mode": {
    "name": "ipython",
    "version": 2
   },
   "file_extension": ".py",
   "mimetype": "text/x-python",
   "name": "python",
   "nbconvert_exporter": "python",
   "pygments_lexer": "ipython2",
   "version": "2.7.8"
  }
 },
 "nbformat": 4,
 "nbformat_minor": 0
}
